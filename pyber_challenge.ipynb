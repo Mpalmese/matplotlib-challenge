{
 "cells": [
  {
   "cell_type": "code",
   "execution_count": 1,
   "metadata": {},
   "outputs": [],
   "source": [
    "%matplotlib inline\n",
    "# Dependencies and Setup\n",
    "import matplotlib.pyplot as plt\n",
    "import pandas as pd\n",
    "import numpy as np\n",
    "\n",
    "# File to Load \n",
    "city_data_to_load = \"data/city_data.csv\"\n",
    "ride_data_to_load = \"data/ride_data.csv\"\n",
    "\n",
    "# Read the Data\n",
    "city = pd.read_csv(city_data_to_load)\n",
    "ride = pd.read_csv(ride_data_to_load)"
   ]
  },
  {
   "cell_type": "code",
   "execution_count": 2,
   "metadata": {
    "scrolled": true
   },
   "outputs": [
    {
     "data": {
      "text/html": [
       "<div>\n",
       "<style scoped>\n",
       "    .dataframe tbody tr th:only-of-type {\n",
       "        vertical-align: middle;\n",
       "    }\n",
       "\n",
       "    .dataframe tbody tr th {\n",
       "        vertical-align: top;\n",
       "    }\n",
       "\n",
       "    .dataframe thead th {\n",
       "        text-align: right;\n",
       "    }\n",
       "</style>\n",
       "<table border=\"1\" class=\"dataframe\">\n",
       "  <thead>\n",
       "    <tr style=\"text-align: right;\">\n",
       "      <th></th>\n",
       "      <th>city</th>\n",
       "      <th>date</th>\n",
       "      <th>fare</th>\n",
       "      <th>ride_id</th>\n",
       "      <th>driver_count</th>\n",
       "      <th>type</th>\n",
       "    </tr>\n",
       "  </thead>\n",
       "  <tbody>\n",
       "    <tr>\n",
       "      <th>0</th>\n",
       "      <td>Lake Jonathanshire</td>\n",
       "      <td>2018-01-14 10:14:22</td>\n",
       "      <td>13.83</td>\n",
       "      <td>5739410935873</td>\n",
       "      <td>5</td>\n",
       "      <td>Urban</td>\n",
       "    </tr>\n",
       "    <tr>\n",
       "      <th>1</th>\n",
       "      <td>South Michelleport</td>\n",
       "      <td>2018-03-04 18:24:09</td>\n",
       "      <td>30.24</td>\n",
       "      <td>2343912425577</td>\n",
       "      <td>72</td>\n",
       "      <td>Urban</td>\n",
       "    </tr>\n",
       "    <tr>\n",
       "      <th>2</th>\n",
       "      <td>Port Samanthamouth</td>\n",
       "      <td>2018-02-24 04:29:00</td>\n",
       "      <td>33.44</td>\n",
       "      <td>2005065760003</td>\n",
       "      <td>57</td>\n",
       "      <td>Urban</td>\n",
       "    </tr>\n",
       "    <tr>\n",
       "      <th>3</th>\n",
       "      <td>Rodneyfort</td>\n",
       "      <td>2018-02-10 23:22:03</td>\n",
       "      <td>23.44</td>\n",
       "      <td>5149245426178</td>\n",
       "      <td>34</td>\n",
       "      <td>Urban</td>\n",
       "    </tr>\n",
       "    <tr>\n",
       "      <th>4</th>\n",
       "      <td>South Jack</td>\n",
       "      <td>2018-03-06 04:28:35</td>\n",
       "      <td>34.58</td>\n",
       "      <td>3908451377344</td>\n",
       "      <td>46</td>\n",
       "      <td>Urban</td>\n",
       "    </tr>\n",
       "  </tbody>\n",
       "</table>\n",
       "</div>"
      ],
      "text/plain": [
       "                 city                 date   fare        ride_id  \\\n",
       "0  Lake Jonathanshire  2018-01-14 10:14:22  13.83  5739410935873   \n",
       "1  South Michelleport  2018-03-04 18:24:09  30.24  2343912425577   \n",
       "2  Port Samanthamouth  2018-02-24 04:29:00  33.44  2005065760003   \n",
       "3          Rodneyfort  2018-02-10 23:22:03  23.44  5149245426178   \n",
       "4          South Jack  2018-03-06 04:28:35  34.58  3908451377344   \n",
       "\n",
       "   driver_count   type  \n",
       "0             5  Urban  \n",
       "1            72  Urban  \n",
       "2            57  Urban  \n",
       "3            34  Urban  \n",
       "4            46  Urban  "
      ]
     },
     "execution_count": 2,
     "metadata": {},
     "output_type": "execute_result"
    }
   ],
   "source": [
    "#Merge Data\n",
    "city_ride = pd.merge(ride,city, how='left')\n",
    "#Display Preview\n",
    "city_ride.head()"
   ]
  },
  {
   "cell_type": "markdown",
   "metadata": {},
   "source": [
    "## Bubble Plot of Ride Sharing Data"
   ]
  },
  {
   "cell_type": "code",
   "execution_count": 3,
   "metadata": {},
   "outputs": [],
   "source": [
    "#Extract Urban Cities\n",
    "urban_df = city_ride[city_ride.iloc[:,5] == 'Urban']\n",
    "urban_city_group = urban_df.groupby('city')\n",
    "\n",
    "#Extract Suburban Cities\n",
    "suburban_df = city_ride[city_ride.iloc[:,5] == 'Suburban']\n",
    "suburban_city_group = suburban_df.groupby('city')\n",
    "\n",
    "\n",
    "#Extract Rural Cities\n",
    "rural_df = city_ride[city_ride.iloc[:,5] == 'Rural']\n",
    "rural_city_group = rural_df.groupby('city')"
   ]
  },
  {
   "cell_type": "code",
   "execution_count": 4,
   "metadata": {},
   "outputs": [
    {
     "name": "stdout",
     "output_type": "stream",
     "text": [
      "Urban\n",
      "                 city  driver_count\n",
      "0  Lake Jonathanshire             5\n",
      "1  South Michelleport            72\n",
      "2  Port Samanthamouth            57\n",
      "3          Rodneyfort            34\n",
      "4          South Jack            46\n",
      "---------------------------\n",
      "Suburban\n",
      "               city  driver_count\n",
      "1625  Barronchester            11\n",
      "1626  East Kentstad            20\n",
      "1627      Lake Omar            22\n",
      "1628     Myersshire            19\n",
      "1629    West Hannah            12\n",
      "---------------------------\n",
      "Rural\n",
      "                 city  driver_count\n",
      "2250   Randallchester             9\n",
      "2251      North Holly             8\n",
      "2252      Michaelberg             6\n",
      "2253  Lake Latoyabury             2\n",
      "2255      Taylorhaven             1\n"
     ]
    }
   ],
   "source": [
    "#Driver count per Urban city\n",
    "urban_df2 = urban_df[['city','driver_count']]\n",
    "urban_df2 = urban_df2.drop_duplicates(keep='first')\n",
    "print(\"Urban\")\n",
    "print(urban_df2.head())\n",
    "print(\"---------------------------\")\n",
    "\n",
    "#Driver count per Suburban city\n",
    "suburban_df2 = suburban_df[['city','driver_count']]\n",
    "suburban_df2 = suburban_df2.drop_duplicates(keep='first')\n",
    "print(\"Suburban\")\n",
    "print(suburban_df2.head())\n",
    "print(\"---------------------------\")\n",
    "\n",
    "#Driver count per Rural city\n",
    "rural_df2 = rural_df[['city','driver_count']]\n",
    "rural_df2 = rural_df2.drop_duplicates(keep='first')\n",
    "print(\"Rural\")\n",
    "print(rural_df2.head())"
   ]
  },
  {
   "cell_type": "code",
   "execution_count": 5,
   "metadata": {
    "scrolled": true
   },
   "outputs": [
    {
     "name": "stdout",
     "output_type": "stream",
     "text": [
      "Urban\n",
      "                 date\n",
      "city                 \n",
      "Amandaburgh        18\n",
      "Barajasview        22\n",
      "Carriemouth        27\n",
      "Christopherfurt    27\n",
      "Deanville          19\n",
      "---------------------------\n",
      "Suburban\n",
      "               date\n",
      "city               \n",
      "Barronchester    16\n",
      "Bethanyland      18\n",
      "Brandonfort      19\n",
      "Colemanland      22\n",
      "Davidfurt        17\n",
      "---------------------------\n",
      "Rural\n",
      "                date\n",
      "city                \n",
      "Bradshawfurt      10\n",
      "Garzaport          3\n",
      "Harringtonfort     6\n",
      "Jessicaport        6\n",
      "Lake Jamie         6\n"
     ]
    }
   ],
   "source": [
    "#Count number of rides in Urban City\n",
    "urban_ride_count = urban_city_group.count()\n",
    "#Total number of rides in Urban city\n",
    "urban_x = pd.DataFrame(urban_ride_count.iloc[:,0])\n",
    "print(\"Urban\")\n",
    "print(urban_x.head())\n",
    "print(\"---------------------------\")\n",
    "\n",
    "#Count number of rides in Suburban city\n",
    "suburban_ride_count = suburban_city_group.count()\n",
    "#Total number of rides in Suburban city\n",
    "suburban_x = pd.DataFrame(suburban_ride_count.iloc[:,0])\n",
    "print(\"Suburban\")\n",
    "print(suburban_x.head())\n",
    "print(\"---------------------------\")\n",
    "\n",
    "#Count number of rides in Rural City\n",
    "rural_ride_count = rural_city_group.count()\n",
    "#Total number of rides in Rural City\n",
    "rural_x = pd.DataFrame(rural_ride_count.iloc[:,0])\n",
    "print(\"Rural\")\n",
    "print(rural_x.head())"
   ]
  },
  {
   "cell_type": "code",
   "execution_count": 6,
   "metadata": {},
   "outputs": [
    {
     "name": "stdout",
     "output_type": "stream",
     "text": [
      "Urban\n",
      "                      fare\n",
      "city                      \n",
      "Amandaburgh      24.641667\n",
      "Barajasview      25.332273\n",
      "Carriemouth      28.314444\n",
      "Christopherfurt  24.501852\n",
      "Deanville        25.842632\n",
      "---------------------------\n",
      "Suburban\n",
      "                    fare\n",
      "city                    \n",
      "Barronchester  36.422500\n",
      "Bethanyland    32.956111\n",
      "Brandonfort    35.437368\n",
      "Colemanland    30.894545\n",
      "Davidfurt      31.995882\n",
      "---------------------------\n",
      "Rural\n",
      "                     fare\n",
      "city                     \n",
      "Bradshawfurt    40.064000\n",
      "Garzaport       24.123333\n",
      "Harringtonfort  33.470000\n",
      "Jessicaport     36.013333\n",
      "Lake Jamie      34.358333\n"
     ]
    }
   ],
   "source": [
    "#Mean fare in Urban City\n",
    "urban_mean = pd.DataFrame(urban_city_group.mean())\n",
    "urban_y = pd.DataFrame(urban_mean.iloc[:,0])\n",
    "print(\"Urban\")\n",
    "print(urban_y.head())\n",
    "print(\"---------------------------\")\n",
    "\n",
    "#Mean fare in Suburban City\n",
    "suburban_mean = pd.DataFrame(suburban_city_group.mean())\n",
    "suburban_y = pd.DataFrame(suburban_mean.iloc[:,0])\n",
    "print(\"Suburban\")\n",
    "print(suburban_y.head())\n",
    "print(\"---------------------------\")\n",
    "\n",
    "#Mean fare in Rural City\n",
    "rural_mean = pd.DataFrame(rural_city_group.mean())\n",
    "rural_y = pd.DataFrame(rural_mean.iloc[:,0])\n",
    "print(\"Rural\")\n",
    "print(rural_y.head())"
   ]
  },
  {
   "cell_type": "code",
   "execution_count": 7,
   "metadata": {
    "scrolled": true
   },
   "outputs": [
    {
     "name": "stdout",
     "output_type": "stream",
     "text": [
      "Urban\n"
     ]
    },
    {
     "data": {
      "text/html": [
       "<div>\n",
       "<style scoped>\n",
       "    .dataframe tbody tr th:only-of-type {\n",
       "        vertical-align: middle;\n",
       "    }\n",
       "\n",
       "    .dataframe tbody tr th {\n",
       "        vertical-align: top;\n",
       "    }\n",
       "\n",
       "    .dataframe thead th {\n",
       "        text-align: right;\n",
       "    }\n",
       "</style>\n",
       "<table border=\"1\" class=\"dataframe\">\n",
       "  <thead>\n",
       "    <tr style=\"text-align: right;\">\n",
       "      <th></th>\n",
       "      <th>number_of_rides</th>\n",
       "      <th>fare</th>\n",
       "      <th>driver_count</th>\n",
       "    </tr>\n",
       "    <tr>\n",
       "      <th>city</th>\n",
       "      <th></th>\n",
       "      <th></th>\n",
       "      <th></th>\n",
       "    </tr>\n",
       "  </thead>\n",
       "  <tbody>\n",
       "    <tr>\n",
       "      <th>Amandaburgh</th>\n",
       "      <td>18</td>\n",
       "      <td>24.641667</td>\n",
       "      <td>12</td>\n",
       "    </tr>\n",
       "    <tr>\n",
       "      <th>Barajasview</th>\n",
       "      <td>22</td>\n",
       "      <td>25.332273</td>\n",
       "      <td>26</td>\n",
       "    </tr>\n",
       "    <tr>\n",
       "      <th>Carriemouth</th>\n",
       "      <td>27</td>\n",
       "      <td>28.314444</td>\n",
       "      <td>52</td>\n",
       "    </tr>\n",
       "    <tr>\n",
       "      <th>Christopherfurt</th>\n",
       "      <td>27</td>\n",
       "      <td>24.501852</td>\n",
       "      <td>41</td>\n",
       "    </tr>\n",
       "    <tr>\n",
       "      <th>Deanville</th>\n",
       "      <td>19</td>\n",
       "      <td>25.842632</td>\n",
       "      <td>49</td>\n",
       "    </tr>\n",
       "  </tbody>\n",
       "</table>\n",
       "</div>"
      ],
      "text/plain": [
       "                 number_of_rides       fare  driver_count\n",
       "city                                                     \n",
       "Amandaburgh                   18  24.641667            12\n",
       "Barajasview                   22  25.332273            26\n",
       "Carriemouth                   27  28.314444            52\n",
       "Christopherfurt               27  24.501852            41\n",
       "Deanville                     19  25.842632            49"
      ]
     },
     "execution_count": 7,
     "metadata": {},
     "output_type": "execute_result"
    }
   ],
   "source": [
    "#Make an Urban df with x and y\n",
    "urban_points = pd.merge(urban_x, urban_y, on='city')\n",
    "#Make an Urban df with x and y and size\n",
    "urban3 = pd.merge(urban_points, urban_df2, on='city')\n",
    "urban3 = urban3.set_index('city')\n",
    "urban3 = urban3.rename(columns={'date':\"number_of_rides\"})\n",
    "print(\"Urban\")\n",
    "urban3.head()"
   ]
  },
  {
   "cell_type": "code",
   "execution_count": 8,
   "metadata": {},
   "outputs": [
    {
     "name": "stdout",
     "output_type": "stream",
     "text": [
      "Suburban\n"
     ]
    },
    {
     "data": {
      "text/html": [
       "<div>\n",
       "<style scoped>\n",
       "    .dataframe tbody tr th:only-of-type {\n",
       "        vertical-align: middle;\n",
       "    }\n",
       "\n",
       "    .dataframe tbody tr th {\n",
       "        vertical-align: top;\n",
       "    }\n",
       "\n",
       "    .dataframe thead th {\n",
       "        text-align: right;\n",
       "    }\n",
       "</style>\n",
       "<table border=\"1\" class=\"dataframe\">\n",
       "  <thead>\n",
       "    <tr style=\"text-align: right;\">\n",
       "      <th></th>\n",
       "      <th>number_of_rides</th>\n",
       "      <th>fare</th>\n",
       "      <th>driver_count</th>\n",
       "    </tr>\n",
       "    <tr>\n",
       "      <th>city</th>\n",
       "      <th></th>\n",
       "      <th></th>\n",
       "      <th></th>\n",
       "    </tr>\n",
       "  </thead>\n",
       "  <tbody>\n",
       "    <tr>\n",
       "      <th>Barronchester</th>\n",
       "      <td>16</td>\n",
       "      <td>36.422500</td>\n",
       "      <td>11</td>\n",
       "    </tr>\n",
       "    <tr>\n",
       "      <th>Bethanyland</th>\n",
       "      <td>18</td>\n",
       "      <td>32.956111</td>\n",
       "      <td>22</td>\n",
       "    </tr>\n",
       "    <tr>\n",
       "      <th>Brandonfort</th>\n",
       "      <td>19</td>\n",
       "      <td>35.437368</td>\n",
       "      <td>10</td>\n",
       "    </tr>\n",
       "    <tr>\n",
       "      <th>Colemanland</th>\n",
       "      <td>22</td>\n",
       "      <td>30.894545</td>\n",
       "      <td>23</td>\n",
       "    </tr>\n",
       "    <tr>\n",
       "      <th>Davidfurt</th>\n",
       "      <td>17</td>\n",
       "      <td>31.995882</td>\n",
       "      <td>23</td>\n",
       "    </tr>\n",
       "  </tbody>\n",
       "</table>\n",
       "</div>"
      ],
      "text/plain": [
       "               number_of_rides       fare  driver_count\n",
       "city                                                   \n",
       "Barronchester               16  36.422500            11\n",
       "Bethanyland                 18  32.956111            22\n",
       "Brandonfort                 19  35.437368            10\n",
       "Colemanland                 22  30.894545            23\n",
       "Davidfurt                   17  31.995882            23"
      ]
     },
     "execution_count": 8,
     "metadata": {},
     "output_type": "execute_result"
    }
   ],
   "source": [
    "#Make a Suburban df with x and y\n",
    "suburban_points = pd.merge(suburban_x, suburban_y, on='city')\n",
    "#Make a Suburban df with x and y and size\n",
    "suburban3 = pd.merge(suburban_points, suburban_df2, on='city')\n",
    "suburban3 = suburban3.set_index('city')\n",
    "suburban3 = suburban3.rename(columns={'date':\"number_of_rides\"})\n",
    "print(\"Suburban\")\n",
    "suburban3.head()"
   ]
  },
  {
   "cell_type": "code",
   "execution_count": 9,
   "metadata": {},
   "outputs": [
    {
     "name": "stdout",
     "output_type": "stream",
     "text": [
      "Rural\n"
     ]
    },
    {
     "data": {
      "text/html": [
       "<div>\n",
       "<style scoped>\n",
       "    .dataframe tbody tr th:only-of-type {\n",
       "        vertical-align: middle;\n",
       "    }\n",
       "\n",
       "    .dataframe tbody tr th {\n",
       "        vertical-align: top;\n",
       "    }\n",
       "\n",
       "    .dataframe thead th {\n",
       "        text-align: right;\n",
       "    }\n",
       "</style>\n",
       "<table border=\"1\" class=\"dataframe\">\n",
       "  <thead>\n",
       "    <tr style=\"text-align: right;\">\n",
       "      <th></th>\n",
       "      <th>number_of_rides</th>\n",
       "      <th>fare</th>\n",
       "      <th>driver_count</th>\n",
       "    </tr>\n",
       "    <tr>\n",
       "      <th>city</th>\n",
       "      <th></th>\n",
       "      <th></th>\n",
       "      <th></th>\n",
       "    </tr>\n",
       "  </thead>\n",
       "  <tbody>\n",
       "    <tr>\n",
       "      <th>Bradshawfurt</th>\n",
       "      <td>10</td>\n",
       "      <td>40.064000</td>\n",
       "      <td>7</td>\n",
       "    </tr>\n",
       "    <tr>\n",
       "      <th>Garzaport</th>\n",
       "      <td>3</td>\n",
       "      <td>24.123333</td>\n",
       "      <td>7</td>\n",
       "    </tr>\n",
       "    <tr>\n",
       "      <th>Harringtonfort</th>\n",
       "      <td>6</td>\n",
       "      <td>33.470000</td>\n",
       "      <td>4</td>\n",
       "    </tr>\n",
       "    <tr>\n",
       "      <th>Jessicaport</th>\n",
       "      <td>6</td>\n",
       "      <td>36.013333</td>\n",
       "      <td>1</td>\n",
       "    </tr>\n",
       "    <tr>\n",
       "      <th>Lake Jamie</th>\n",
       "      <td>6</td>\n",
       "      <td>34.358333</td>\n",
       "      <td>4</td>\n",
       "    </tr>\n",
       "  </tbody>\n",
       "</table>\n",
       "</div>"
      ],
      "text/plain": [
       "                number_of_rides       fare  driver_count\n",
       "city                                                    \n",
       "Bradshawfurt                 10  40.064000             7\n",
       "Garzaport                     3  24.123333             7\n",
       "Harringtonfort                6  33.470000             4\n",
       "Jessicaport                   6  36.013333             1\n",
       "Lake Jamie                    6  34.358333             4"
      ]
     },
     "execution_count": 9,
     "metadata": {},
     "output_type": "execute_result"
    }
   ],
   "source": [
    "#Make a Rural df with x and y\n",
    "rural_points = pd.merge(rural_x, rural_y, on='city')\n",
    "#Make a Rural df with x and y and size\n",
    "rural3 = pd.merge(rural_points, rural_df2, on='city')\n",
    "rural3 = rural3.set_index('city')\n",
    "rural3 = rural3.rename(columns={'date':\"number_of_rides\"})\n",
    "print(\"Rural\")\n",
    "rural3.head()"
   ]
  },
  {
   "cell_type": "code",
   "execution_count": 10,
   "metadata": {},
   "outputs": [],
   "source": [
    "#Convert Urban data into arrays\n",
    "urban_s = [i*9 for i in urban3['driver_count']]\n",
    "urban_x = [i for i in urban3['number_of_rides']]\n",
    "urban_y = [i for i in urban3['fare']]\n",
    "\n",
    "#Convert Suburban data into arrays\n",
    "suburban_s = [i*9 for i in suburban3['driver_count']]\n",
    "suburban_x = [i for i in suburban3['number_of_rides']]\n",
    "suburban_y = [i for i in suburban3['fare']]\n",
    "\n",
    "#Convert Rural data into arrays\n",
    "rural_s = [i*9 for i in rural3['driver_count']]\n",
    "rural_x = [i for i in rural3['number_of_rides']]\n",
    "rural_y = [i for i in rural3['fare']]"
   ]
  },
  {
   "cell_type": "code",
   "execution_count": 21,
   "metadata": {
    "scrolled": true
   },
   "outputs": [
    {
     "data": {
      "image/png": "[encoded data removed]",
      "text/plain": [
       "<Figure size 432x288 with 1 Axes>"
      ]
     },
     "metadata": {
      "needs_background": "light"
     },
     "output_type": "display_data"
    }
   ],
   "source": [
    "#Legend\n",
    "plt.scatter([],[],c='lightcoral', marker='o', alpha = 0.75, linewidths=1, edgecolors='black')\n",
    "plt.scatter([],[],c='lightskyblue', marker='o', alpha = 0.75, linewidths=1, edgecolors='black')\n",
    "plt.scatter([],[],c='gold', marker='o', alpha = 0.75, linewidths=1, edgecolors='black')\n",
    "plt.legend(('Urban','Suburban','Rural'),title='City Types')\n",
    "\n",
    "#Plot points for each city\n",
    "plt.scatter(x=urban_x, y=urban_y, s=urban_s, c='lightcoral' , marker='o', alpha = 0.75, linewidths=1 , edgecolors='black' )\n",
    "plt.scatter(x=suburban_x, y=suburban_y, s=suburban_s, c='lightskyblue' , marker='o', alpha = 0.75, linewidths=1 , edgecolors='black' )\n",
    "plt.scatter(x=rural_x, y=rural_y, s=rural_s, c='gold' , marker='o', alpha = 0.75, linewidths=1 , edgecolors='black' )\n",
    "\n",
    "#Graph properties\n",
    "plt.title(\"Pyber Ride Sharing Data (2016)\")\n",
    "plt.text(42,35,'Note:\\nCircle size correlates with driver count per city.')\n",
    "plt.grid()\n",
    "plt.xlim(1, 41)\n",
    "plt.ylim(19, 44)\n",
    "plt.xlabel(\"Total Number of Rides (Per City)\")\n",
    "plt.ylabel(\"Average Fare ($)\")\n",
    "\n",
    "#Save fig\n",
    "plt.savefig(\"Ride_Share_Data_Bubble.png\", bbox_inches='tight')\n",
    "\n",
    "#Show fig\n",
    "plt.show()"
   ]
  },
  {
   "cell_type": "markdown",
   "metadata": {},
   "source": [
    "## Total Fares by City Type"
   ]
  },
  {
   "cell_type": "code",
   "execution_count": 12,
   "metadata": {},
   "outputs": [
    {
     "data": {
      "image/png": "[encoded data removed]",
      "text/plain": [
       "<Figure size 432x288 with 1 Axes>"
      ]
     },
     "metadata": {},
     "output_type": "display_data"
    }
   ],
   "source": [
    "# Calculations\n",
    "total_fare = city_ride['fare'].sum()\n",
    "total_urban_fare = urban_df['fare'].sum()\n",
    "total_suburban_fare = suburban_df['fare'].sum()\n",
    "total_rural_fare = rural_df['fare'].sum()\n",
    "\n",
    "urban_fare_percent = total_urban_fare/total_fare\n",
    "suburban_fare_percent = total_suburban_fare/total_fare\n",
    "rural_fare_percent = total_rural_fare/total_fare\n",
    "\n",
    "# Build Pie Chart\n",
    "labels = [\"Urban\", \"Suburban\", \"Rural\"] \n",
    "sizes = [total_urban_fare, total_suburban_fare, total_rural_fare]\n",
    "colors = [\"lightcoral\", \"lightskyblue\", \"gold\"]\n",
    "explode = (0.1, 0, 0)\n",
    "\n",
    "plt.pie(sizes, explode=explode, labels=labels, colors=colors,\n",
    "        autopct=\"%1.1f%%\", shadow=True, startangle=120, counterclock=False)\n",
    "plt.axis(\"equal\")\n",
    "plt.title(\"% of Total Fares by City Type\")\n",
    "\n",
    "# Save Figure\n",
    "plt.savefig(\"fares_by_city_type_pie.png\")\n",
    "\n",
    "# Show Figure\n",
    "plt.show()"
   ]
  },
  {
   "cell_type": "markdown",
   "metadata": {},
   "source": [
    "## Total Rides by City Type"
   ]
  },
  {
   "cell_type": "code",
   "execution_count": 13,
   "metadata": {},
   "outputs": [
    {
     "data": {
      "image/png": "[encoded data removed]",
      "text/plain": [
       "<Figure size 432x288 with 1 Axes>"
      ]
     },
     "metadata": {},
     "output_type": "display_data"
    }
   ],
   "source": [
    "# Calculations\n",
    "total_rides = city_ride['fare'].count()\n",
    "total_urban_rides = urban_df['fare'].count()\n",
    "total_suburban_rides = suburban_df['fare'].count()\n",
    "total_rural_rides = rural_df['fare'].count()\n",
    "\n",
    "urban_rides_percent = total_urban_rides/total_rides\n",
    "suburban_rides_percent = total_suburban_rides/total_rides\n",
    "rural_rides_percent = total_rural_rides/total_rides\n",
    "\n",
    "# Build Pie Chart\n",
    "labels = [\"Urban\", \"Suburban\", \"Rural\"] \n",
    "sizes = [total_urban_rides, total_suburban_rides, total_rural_rides]\n",
    "colors = [\"lightcoral\", \"lightskyblue\", \"gold\"]\n",
    "explode = (0.1, 0, 0)\n",
    "\n",
    "plt.pie(sizes, explode=explode, labels=labels, colors=colors,\n",
    "        autopct=\"%1.1f%%\", shadow=True, startangle=120, counterclock=False)\n",
    "plt.axis(\"equal\")\n",
    "plt.title(\"% of Total Rides by City Type\")\n",
    "\n",
    "# Save Figure\n",
    "plt.savefig(\"rides_by_city_type_pie.png\")\n",
    "\n",
    "# Show Figure\n",
    "plt.show()"
   ]
  },
  {
   "cell_type": "markdown",
   "metadata": {},
   "source": [
    "## Total Drivers by City Type"
   ]
  },
  {
   "cell_type": "code",
   "execution_count": 14,
   "metadata": {},
   "outputs": [
    {
     "data": {
      "image/png": "[encoded data removed]",
      "text/plain": [
       "<Figure size 432x288 with 1 Axes>"
      ]
     },
     "metadata": {},
     "output_type": "display_data"
    }
   ],
   "source": [
    "# Calculations\n",
    "total_driver_count = city_ride['driver_count'].sum()\n",
    "total_urban_driver_count = urban_df2['driver_count'].sum()\n",
    "total_suburban_driver_count = suburban_df2['driver_count'].sum()\n",
    "total_rural_driver_count = rural_df2['driver_count'].sum()\n",
    "\n",
    "urban_driver_count_percent = total_urban_driver_count/total_driver_count\n",
    "suburban_driver_count_percent = total_suburban_driver_count/total_driver_count\n",
    "rural_driver_count_percent = total_rural_driver_count/total_driver_count\n",
    "\n",
    "# Build Pie Chart\n",
    "labels = [\"Urban\", \"Suburban\", \"Rural\"] \n",
    "sizes = [total_urban_driver_count, total_suburban_driver_count, total_rural_driver_count]\n",
    "colors = [\"lightcoral\", \"lightskyblue\", \"gold\"]\n",
    "explode = (0.1, 0, 0)\n",
    "\n",
    "plt.pie(sizes, explode=explode, labels=labels, colors=colors,\n",
    "        autopct=\"%1.1f%%\", shadow=True, startangle=160, counterclock=False)\n",
    "plt.axis(\"equal\")\n",
    "plt.title(\"% of Total Drivers by City Type\")\n",
    "\n",
    "# Save Figure\n",
    "plt.savefig(\"drivers_by_city_type_pie.png\")\n",
    "\n",
    "# Show Figure\n",
    "plt.show()"
   ]
  },
  {
   "cell_type": "markdown",
   "metadata": {},
   "source": [
    "# Pyber Analysis"
   ]
  },
  {
   "cell_type": "markdown",
   "metadata": {},
   "source": [
    "* Based on the data, Urban city types have the greatest amount of drivers active (80.9%), compared to Suburban (16.5%) and Rural (2.6%).\n",
    "\n",
    "\n",
    "* The further away from an Urban city type that you are, you will notice greater fares. Looking at the bubble chart, you will notice that Rural fares are, on average, much higher than Urban fares.\n",
    "\n",
    "* The average max fare in a Rural type is $43.28.\n",
    "\n",
    "* The average max fare in an Urban type is $28.99.\n",
    "\n",
    "\n",
    "* Pyber is more likely to be used in a busier city type like Urban, rather than a more countryside type like Rural. The data shows that 68.4% of riders come from Urban city types, while only 5.3% come from a Rural type."
   ]
  },
  {
   "cell_type": "code",
   "execution_count": null,
   "metadata": {},
   "outputs": [],
   "source": []
  }
 ],
 "metadata": {
  "anaconda-cloud": {},
  "kernelspec": {
   "display_name": "Python 3",
   "language": "python",
   "name": "python3"
  },
  "language_info": {
   "codemirror_mode": {
    "name": "ipython",
    "version": 3
   },
   "file_extension": ".py",
   "mimetype": "text/x-python",
   "name": "python",
   "nbconvert_exporter": "python",
   "pygments_lexer": "ipython3",
   "version": "3.7.1"
  }
 },
 "nbformat": 4,
 "nbformat_minor": 2
}
